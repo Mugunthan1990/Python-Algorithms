{
 "cells": [
  {
   "cell_type": "markdown",
   "metadata": {},
   "source": [
    "### Linear Search Algorithm"
   ]
  },
  {
   "cell_type": "markdown",
   "metadata": {},
   "source": [
    "\n",
    "Unsorted Array\n",
    " - O(n)"
   ]
  },
  {
   "cell_type": "code",
   "execution_count": 5,
   "metadata": {},
   "outputs": [
    {
     "name": "stdout",
     "output_type": "stream",
     "text": [
      "-1\n"
     ]
    }
   ],
   "source": [
    "def linear_search(array,item):\n",
    "    \n",
    "    #simple linear search in O(n) running time complexity\n",
    "    for i in range(len(array)):\n",
    "        \n",
    "        #we have found the given item so return with the intex\n",
    "        if array[i] == item:\n",
    "            return i\n",
    "    #search miss: item not found \n",
    "    return -1    \n",
    "\n",
    "\n",
    "if __name__ == \"__main__\":\n",
    "    \n",
    "    array = [1,3,5,6,12,435,134,536,4574,464]\n",
    "    \n",
    "    print(linear_search(array,43))\n"
   ]
  },
  {
   "cell_type": "markdown",
   "metadata": {},
   "source": [
    "###  Binery Search Algorithm\n",
    "\n",
    "if array is sorted  - O(logN)"
   ]
  },
  {
   "cell_type": "code",
   "execution_count": 28,
   "metadata": {},
   "outputs": [
    {
     "name": "stdout",
     "output_type": "stream",
     "text": [
      "middle index:  5\n",
      "Checking item on the left...\n",
      "middle index:  2\n",
      "Checking item on the right... \n",
      "middle index:  3\n",
      "Checking item on the right... \n",
      "middle index:  4\n",
      "4\n"
     ]
    }
   ],
   "source": [
    "def binery_search(array,item,left,right):\n",
    "    \n",
    "    #base case for recursive function calls\n",
    "    #this is the search miss (array does not contains the item)\n",
    "    if right < left:\n",
    "        return -1\n",
    "    \n",
    "    #lets generate the middile item's index\n",
    "    middle = left + (right - left)//2\n",
    "    print(\"middle index: \",middle)\n",
    "    \n",
    "    #the middile item is the item we are lookig for\n",
    "    if array[middle] == item:\n",
    "        return middle\n",
    "    \n",
    "    #the item we are looking for is smaller than the middle item\n",
    "    #So we have to cosider the left subarray\n",
    "    elif array[middle] > item:\n",
    "        print(\"Checking item on the left...\")\n",
    "        return binery_search(array,item,left,middle-1)\n",
    "    \n",
    "    #the item we are looking for is greater than the middile item\n",
    "    #so we have to cosider the right subarray\n",
    "    elif array[middle]<item:\n",
    "        print(\"Checking item on the right... \")\n",
    "        return binery_search(array,item,middle+1,right)\n",
    "    \n",
    "    \n",
    "if __name__ == \"__main__\":\n",
    "    \n",
    "    array = [1,3,5,6,12,134,536,5654,7657,86554]\n",
    "    \n",
    "    print(binery_search(array,12,0,len(array)))"
   ]
  },
  {
   "cell_type": "code",
   "execution_count": null,
   "metadata": {},
   "outputs": [],
   "source": []
  },
  {
   "cell_type": "code",
   "execution_count": null,
   "metadata": {},
   "outputs": [],
   "source": []
  },
  {
   "cell_type": "code",
   "execution_count": null,
   "metadata": {},
   "outputs": [],
   "source": []
  }
 ],
 "metadata": {
  "kernelspec": {
   "display_name": "Python 3",
   "language": "python",
   "name": "python3"
  },
  "language_info": {
   "codemirror_mode": {
    "name": "ipython",
    "version": 3
   },
   "file_extension": ".py",
   "mimetype": "text/x-python",
   "name": "python",
   "nbconvert_exporter": "python",
   "pygments_lexer": "ipython3",
   "version": "3.7.4"
  }
 },
 "nbformat": 4,
 "nbformat_minor": 2
}
