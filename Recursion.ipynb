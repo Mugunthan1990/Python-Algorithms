{
 "cells": [
  {
   "cell_type": "markdown",
   "metadata": {},
   "source": [
    "# Recursion\n",
    "Solution problem depends on solution to smaller instence of the same problem\n",
    "- Break the task in to smaller subtask\n",
    "- Defne base cases - If not it will be loop infinitely\n",
    "\n",
    "2types\n",
    "-Tail recursion\n",
    "    - recursive call occures end of the function\n",
    "    - excute all the statement before jumbing to next call - like loop\n",
    "    - it is same alike iteration - less memorry\n",
    "- Head recursion\n",
    "    - recursive call occurs at the begining of the fuinction\n",
    "    - The methode save the state before jumbing to the next recursive calls\n",
    "    - needs more memory "
   ]
  },
  {
   "cell_type": "code",
   "execution_count": 6,
   "metadata": {},
   "outputs": [
    {
     "name": "stdout",
     "output_type": "stream",
     "text": [
      "5\n",
      "4\n",
      "3\n",
      "2\n",
      "1\n"
     ]
    }
   ],
   "source": [
    "def tail(n):\n",
    "    \n",
    "    #base case\n",
    "    if n == 0:\n",
    "        return\n",
    "    \n",
    "    #do some operations\n",
    "    print(n)\n",
    "    \n",
    "    # function call at the end\n",
    "    tail(n-1)\n",
    "    \n",
    "if __name__ == \"__main__\":\n",
    "    \n",
    "    tail(5)"
   ]
  },
  {
   "cell_type": "code",
   "execution_count": 7,
   "metadata": {},
   "outputs": [
    {
     "name": "stdout",
     "output_type": "stream",
     "text": [
      "1\n",
      "2\n",
      "3\n",
      "4\n",
      "5\n"
     ]
    }
   ],
   "source": [
    "def head(n):\n",
    "    \n",
    "    if n == 0:\n",
    "        return\n",
    "    \n",
    "    #function call at the beginning\n",
    "    head(n-1)\n",
    "    \n",
    "    #do some operation\n",
    "    \n",
    "    print(n)\n",
    "    \n",
    "if __name__ == \"__main__\":\n",
    "    head(5)\n",
    "    "
   ]
  },
  {
   "cell_type": "markdown",
   "metadata": {},
   "source": [
    "# Recursion and Stack Memory\n",
    "\n",
    "- We have to track during recursion waht function called the given function  and what argument are to be handed over \n",
    "     - And we have to track the pending calls\n",
    " \n",
    "- We just need Single Stack: the operating system does everything for us\n",
    "\n",
    "- the function calles are to be pushed to the stack\n",
    "\n",
    "- Values are popped off the stack when needed\n"
   ]
  },
  {
   "cell_type": "code",
   "execution_count": 26,
   "metadata": {},
   "outputs": [
    {
     "name": "stdout",
     "output_type": "stream",
     "text": [
      "2432902008176640000\n"
     ]
    }
   ],
   "source": [
    "def factorial(n):\n",
    "    \n",
    "    if n == 1:\n",
    "        return 1\n",
    "    \n",
    "    subResult1 = factorial(n-1)\n",
    "    subresult2 = n*subResult1\n",
    "    \n",
    "    return subresult2\n",
    "\n",
    "\n",
    "if __name__ == \"__main__\":\n",
    "\n",
    "    print(factorial(20))\n",
    "    \n",
    "    "
   ]
  },
  {
   "cell_type": "code",
   "execution_count": 27,
   "metadata": {},
   "outputs": [
    {
     "name": "stdout",
     "output_type": "stream",
     "text": [
      "2432902008176640000\n"
     ]
    }
   ],
   "source": [
    "def factorial_acumulator(n,acumulator=1):\n",
    "    \n",
    "    if n ==1:\n",
    "        return acumulator\n",
    "    \n",
    "    return factorial_acumulator(n-1,n*acumulator)\n",
    "\n",
    "if __name__ == \"__main__\":\n",
    "    \n",
    "    print(factorial_acumulator(20))\n",
    "    "
   ]
  },
  {
   "cell_type": "code",
   "execution_count": 29,
   "metadata": {},
   "outputs": [
    {
     "name": "stdout",
     "output_type": "stream",
     "text": [
      "55\n"
     ]
    }
   ],
   "source": [
    "def fibonacci (n):\n",
    "    \n",
    "    if n == 0 : return 0\n",
    "    if n == 1: return 1\n",
    "    \n",
    "    fb1 = fibonacci(n-1)\n",
    "    fb2 = fibonacci(n-2)\n",
    "    \n",
    "    result = fb1 + fb2\n",
    "    \n",
    "    return result\n",
    "\n",
    "\n",
    "if __name__ == \"__main__\":\n",
    "    \n",
    "    print(fibonacci(10))"
   ]
  },
  {
   "cell_type": "code",
   "execution_count": 30,
   "metadata": {},
   "outputs": [
    {
     "name": "stdout",
     "output_type": "stream",
     "text": [
      "55\n"
     ]
    }
   ],
   "source": [
    "def fibonacci_tail(n,a = 0,b = 1):\n",
    "    \n",
    "    if n == 0 : return a\n",
    "    if n == 1 : return b\n",
    "    \n",
    "    return fibonacci_tail(n-1,b,a+b)\n",
    "\n",
    "\n",
    "if __name__ == \"__main__\":\n",
    "    print(fibonacci_tail(10))"
   ]
  },
  {
   "cell_type": "markdown",
   "metadata": {},
   "source": [
    "#### Towers of Hanoi"
   ]
  },
  {
   "cell_type": "code",
   "execution_count": 36,
   "metadata": {},
   "outputs": [
    {
     "name": "stdout",
     "output_type": "stream",
     "text": [
      "plate 1 from A to B\n",
      "plate 2 from A to C\n",
      "plate 1 from B to C\n"
     ]
    }
   ],
   "source": [
    "def hanoi(n,rod_from,rod_middile,rod_to):\n",
    "    \n",
    "    #when n-1 plates are in the finel postion\n",
    "    if n == 1:\n",
    "        print(\"plate 1 from %s to %s\"%(rod_from,rod_to))\n",
    "        return\n",
    "    \n",
    "    #moving n-1 plates off the largest one to be able to move that\n",
    "    hanoi(n-1,rod_from,rod_to,rod_middile)\n",
    "    \n",
    "    #Moving the actual largest one\n",
    "    \n",
    "    print(\"plate %s from %s to %s\"%(n,rod_from,rod_to))\n",
    "    \n",
    "    #placing n-1 plates on the top of the largest one\n",
    "    \n",
    "    hanoi(n-1,rod_middile,rod_from,rod_to)\n",
    "    \n",
    "    \n",
    "    \n",
    "if __name__ == \"__main__\":\n",
    "    \n",
    "    hanoi(2,\"A\",\"B\",\"C\")\n",
    "    \n",
    "    "
   ]
  },
  {
   "cell_type": "markdown",
   "metadata": {},
   "source": [
    "#### Recursion and Iteration\n",
    "\n",
    "we may prefer iterative solutions to recursive solutions or vice versa.\n",
    "\n",
    "    BUT there is a crusial difference between the two approaches\n",
    "    \n",
    "    \n",
    "    - recursive stack frames are totally independent of each other\n",
    "    \n",
    "    - every recursive functions call gets its own stack fra\n",
    "            ~evey stack frame has its owan  local variables isolated from each other.\n",
    "            __Recursive Calles Can not Cahnge the Values of Variables\n",
    "            \n",
    "    - Iteration can change the values (we can update or remove values in array for example)\n",
    "       \n",
    "    - "
   ]
  },
  {
   "cell_type": "code",
   "execution_count": null,
   "metadata": {},
   "outputs": [],
   "source": []
  }
 ],
 "metadata": {
  "kernelspec": {
   "display_name": "Python 3",
   "language": "python",
   "name": "python3"
  },
  "language_info": {
   "codemirror_mode": {
    "name": "ipython",
    "version": 3
   },
   "file_extension": ".py",
   "mimetype": "text/x-python",
   "name": "python",
   "nbconvert_exporter": "python",
   "pygments_lexer": "ipython3",
   "version": "3.7.4"
  }
 },
 "nbformat": 4,
 "nbformat_minor": 2
}
